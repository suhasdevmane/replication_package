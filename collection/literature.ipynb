{
 "cells": [
  {
   "cell_type": "code",
   "execution_count": 3,
   "id": "04324faa",
   "metadata": {},
   "outputs": [
    {
     "name": "stdout",
     "output_type": "stream",
     "text": [
      "Successfully removed duplicates. Unique lines saved to 'unique_citation_keys.txt'.\n"
     ]
    }
   ],
   "source": [
    "import os\n",
    "\n",
    "def remove_duplicates_from_file(input_filepath, output_filepath):\n",
    "    \"\"\"\n",
    "    Reads a file, removes duplicate lines, and writes the unique lines\n",
    "    to a new file.\n",
    "\n",
    "    Args:\n",
    "        input_filepath (str): The path to the input file.\n",
    "        output_filepath (str): The path to the output file.\n",
    "    \"\"\"\n",
    "    # Use a set to store unique lines. A set automatically handles uniqueness.\n",
    "    unique_lines = set()\n",
    "\n",
    "    # Read the input file and add each line to the set.\n",
    "    try:\n",
    "        with open(input_filepath, 'r', encoding='utf-8') as infile:\n",
    "            for line in infile:\n",
    "                # Use .strip() to remove leading/trailing whitespace and the newline character\n",
    "                # so that \"Alavi2016a\" and \"Alavi2016a \" aren't considered different.\n",
    "                cleaned_line = line.strip()\n",
    "                if cleaned_line: # Ensure we don't add empty lines if they exist\n",
    "                    unique_lines.add(cleaned_line)\n",
    "        \n",
    "    except FileNotFoundError:\n",
    "        print(f\"Error: The input file '{input_filepath}' was not found.\")\n",
    "        return\n",
    "    except Exception as e:\n",
    "        print(f\"An error occurred while reading the file: {e}\")\n",
    "        return\n",
    "\n",
    "    # Sort the unique lines alphabetically before writing them to the output file.\n",
    "    # This is an optional step for a cleaner output.\n",
    "    sorted_unique_lines = sorted(list(unique_lines))\n",
    "\n",
    "    # Write the unique lines to the new output file.\n",
    "    try:\n",
    "        with open(output_filepath, 'w', encoding='utf-8') as outfile:\n",
    "            for line in sorted_unique_lines:\n",
    "                outfile.write(line + '\\n')\n",
    "        \n",
    "        print(f\"Successfully removed duplicates. Unique lines saved to '{output_filepath}'.\")\n",
    "\n",
    "    except Exception as e:\n",
    "        print(f\"An error occurred while writing to the output file: {e}\")\n",
    "\n",
    "if __name__ == \"__main__\":\n",
    "    # Define the input and output file paths.\n",
    "    input_file = \"citation_keys.txt\"\n",
    "    output_file = \"unique_citation_keys.txt\"\n",
    "    \n",
    "    # Run the function to process the file.\n",
    "    remove_duplicates_from_file(input_file, output_file)\n"
   ]
  },
  {
   "cell_type": "code",
   "execution_count": 2,
   "id": "0a3b2426",
   "metadata": {},
   "outputs": [],
   "source": [
    "# remove_duplicates.py\n",
    "\n",
    "def remove_duplicates(input_file, output_file):\n",
    "    # Read all lines from input file\n",
    "    with open(input_file, 'r', encoding='utf-8') as f:\n",
    "        lines = f.readlines()\n",
    "\n",
    "    # Strip whitespace/newlines and remove duplicates using set\n",
    "    unique_lines = list(set(line.strip() for line in lines if line.strip()))\n",
    "\n",
    "    # Sort them (optional – remove if you want original order preserved)\n",
    "    unique_lines.sort()\n",
    "\n",
    "    # Write unique lines to output file\n",
    "    with open(output_file, 'w', encoding='utf-8') as f:\n",
    "        for line in unique_lines:\n",
    "            f.write(line + '\\n')\n",
    "\n",
    "if __name__ == \"__main__\":\n",
    "    remove_duplicates(\"citation_keys.txt\", \"unique_citation_keysGPT.txt\")\n"
   ]
  },
  {
   "cell_type": "code",
   "execution_count": null,
   "id": "b8430e10",
   "metadata": {},
   "outputs": [],
   "source": []
  },
  {
   "cell_type": "code",
   "execution_count": null,
   "id": "45bb30d7",
   "metadata": {},
   "outputs": [],
   "source": []
  },
  {
   "cell_type": "code",
   "execution_count": 4,
   "id": "9b678142",
   "metadata": {},
   "outputs": [
    {
     "name": "stdout",
     "output_type": "stream",
     "text": [
      "✅ Removed citations saved to: removed_citations.txt\n"
     ]
    }
   ],
   "source": [
    "# compare_citations.py\n",
    "\n",
    "def find_removed(collection_file, used_file, removed_output):\n",
    "    # Read all citations from the collection\n",
    "    with open(collection_file, 'r', encoding='utf-8') as f:\n",
    "        all_citations = [line.strip() for line in f if line.strip()]\n",
    "\n",
    "    # Read used citations into a set for fast lookup\n",
    "    with open(used_file, 'r', encoding='utf-8') as f:\n",
    "        used_citations = {line.strip() for line in f if line.strip()}\n",
    "\n",
    "    # Find removed citations (keep same order as collection file)\n",
    "    removed = [c for c in all_citations if c not in used_citations]\n",
    "\n",
    "    # Save plain text list of removed citations\n",
    "    with open(removed_output, 'w', encoding='utf-8') as f:\n",
    "        for citation in removed:\n",
    "            f.write(citation + \"\\n\")\n",
    "\n",
    "    print(f\"✅ Removed citations saved to: {removed_output}\")\n",
    "\n",
    "if __name__ == \"__main__\":\n",
    "    find_removed(\n",
    "        \"citation_keys.txt\",\n",
    "        \"used_citations.txt\",\n",
    "        \"removed_citations.txt\"\n",
    "    )\n"
   ]
  },
  {
   "cell_type": "markdown",
   "id": "4bec66b1",
   "metadata": {},
   "source": []
  },
  {
   "cell_type": "code",
   "execution_count": null,
   "id": "81a445a2",
   "metadata": {},
   "outputs": [],
   "source": [
    "# highlight_removed_citations.py\n",
    "\n",
    "def highlight_removed(all_file, used_file, output_file):\n",
    "    # Read all citations from files\n",
    "    with open(all_file, 'r', encoding='utf-8') as f:\n",
    "        all_citations = [line.strip() for line in f if line.strip()]\n",
    "\n",
    "    with open(used_file, 'r', encoding='utf-8') as f:\n",
    "        used_citations = {line.strip() for line in f if line.strip()}\n",
    "\n",
    "    # Find removed citations (in all but not in used)\n",
    "    removed = [c for c in all_citations if c not in used_citations]\n",
    "\n",
    "    # Write results to HTML file with red highlights\n",
    "    with open(output_file, 'w', encoding='utf-8') as f:\n",
    "        f.write(\"<html><body><h2>Citation Comparison</h2>\\n<ul>\\n\")\n",
    "        for citation in all_citations:\n",
    "            if citation in removed:\n",
    "                f.write(f\"<li><span style='color:red'>{citation}</span></li>\\n\")\n",
    "            else:\n",
    "                f.write(f\"<li>{citation}</li>\\n\")\n",
    "        f.write(\"</ul></body></html>\")\n",
    "\n",
    "if __name__ == \"__main__\":\n",
    "    highlight_removed(\"all_citations.txt\", \"used_citations.txt\", \"comparison.html\")\n"
   ]
  }
 ],
 "metadata": {
  "kernelspec": {
   "display_name": "Python 3",
   "language": "python",
   "name": "python3"
  },
  "language_info": {
   "codemirror_mode": {
    "name": "ipython",
    "version": 3
   },
   "file_extension": ".py",
   "mimetype": "text/x-python",
   "name": "python",
   "nbconvert_exporter": "python",
   "pygments_lexer": "ipython3",
   "version": "3.10.11"
  }
 },
 "nbformat": 4,
 "nbformat_minor": 5
}
